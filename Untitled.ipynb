{
 "cells": [
  {
   "cell_type": "code",
   "execution_count": 19,
   "metadata": {
    "scrolled": true
   },
   "outputs": [
    {
     "name": "stdout",
     "output_type": "stream",
     "text": [
      "t =  -0.3569572451447697  and  0.7432434165648619  s\n",
      "x2 =  -0.964927448377546  m\n",
      "x2 =  2.0091369014753564  m\n"
     ]
    }
   ],
   "source": [
    "import vpython\n",
    "import math\n",
    "#starting position\n",
    "x1=0 #m\n",
    "y1=1.3 #m\n",
    "\n",
    "#final postion \n",
    "y2=0 #m\n",
    "\n",
    "#starting velocity\n",
    "v1=3.3 #m/s\n",
    "\n",
    "#vertical acceleration\n",
    "g=9.8 #m/s^2\n",
    "\n",
    "#launch angle (in rad)\n",
    "theta=35*math.pi/180\n",
    "\n",
    "#calculate time (twice)\n",
    "c=y1-y2\n",
    "a=-g/2\n",
    "b=v1*math.sin(theta)\n",
    "t1=(-b+math.sqrt(b**2-4*a*c))/(2*a)\n",
    "t2=(-b-math.sqrt(b**2-4*a*c))/(2*a)\n",
    "\n",
    "print(\"t = \",t1,\" and \", t2,\" s\")\n",
    "\n",
    "x2a=x1+v1*math.cos(theta)*t1\n",
    "x2b=x1+v1*math.cos(theta)*t2\n",
    "\n",
    "print(\"x2 = \",x2a,\" m\")\n",
    "print(\"x2 = \",x2b,\" m\")"
   ]
  }
 ],
 "metadata": {
  "kernelspec": {
   "display_name": "Python 3",
   "language": "python",
   "name": "python3"
  },
  "language_info": {
   "codemirror_mode": {
    "name": "ipython",
    "version": 3
   },
   "file_extension": ".py",
   "mimetype": "text/x-python",
   "name": "python",
   "nbconvert_exporter": "python",
   "pygments_lexer": "ipython3",
   "version": "3.6.1"
  }
 },
 "nbformat": 4,
 "nbformat_minor": 2
}
